{
 "cells": [
  {
   "cell_type": "markdown",
   "id": "814ab4d2",
   "metadata": {},
   "source": [
    "### 1. HMM Brief\n",
    "- Hidden Markov model is a statistical Markov model in which the system being modeled is assumed to be a Markov process — call it X — with unobservable (\"hidden\") states. As part of the definition, HMM requires that there be an observable process Y whose outcomes are \"influenced\" by the outcomes of X in a known way. \n",
    "\n",
    "- Since X cannot be observed directly, the goal is to learn about X by observing Y.\n",
    "  HMM has an additional requirement that the outcome of Y at time {\\displaystyle t=t_{0}}{\\displaystyle t=t_{0}}    must be \"influenced\" exclusively by the outcome of X at: $$t=t_{0}$$\n",
    "\n",
    "  must be \"influenced\" exclusively by the outcome of X at \n",
    "   $$t=t_{0}$$\n",
    "\n",
    "  and that the outcomes of X and Y at\n",
    "   $$t<t_{0}$$\n",
    "\n",
    "  must not affect the outcome of Y at \n",
    "   $$t=t_{0}$$\n",
    "\n",
    "- Given a Hidden Markov Model (HMM), we want to calculate the probability of a state at a certain time, given some evidence via some sequence of emissions. Let us assume the following [HMM](https://en.wikipedia.org/wiki/Hidden_Markov_model) as described in Chapter 9.2 of Manning and Schütze (1999)"
   ]
  },
  {
   "cell_type": "markdown",
   "id": "8c06b159",
   "metadata": {},
   "source": [
    "[ReadMe](http://damir.cavar.me/pynotebooks/Python_Tutorial_HMM.html)"
   ]
  },
  {
   "cell_type": "markdown",
   "id": "737f96dd",
   "metadata": {},
   "source": [
    "### 2. Implications\n",
    "- Reinforce Learning, Temporal Pattern Recognition\n",
    "- Speech, hand-writing, Gesture recognition, part-of-speech tagging, musical score following, pratial dischareges and bioinformatics"
   ]
  },
  {
   "cell_type": "markdown",
   "id": "ae7634c5",
   "metadata": {},
   "source": [
    "### 3. Implementation"
   ]
  },
  {
   "cell_type": "code",
   "execution_count": 5,
   "id": "0f646b01",
   "metadata": {},
   "outputs": [],
   "source": [
    "import numpy as np"
   ]
  },
  {
   "cell_type": "code",
   "execution_count": 6,
   "id": "84d5fe21",
   "metadata": {},
   "outputs": [],
   "source": [
    "stateMatrix = np.matrix(\"0.7 0.3; 0.5 0.5\")"
   ]
  },
  {
   "cell_type": "code",
   "execution_count": 7,
   "id": "b74fe6dc",
   "metadata": {},
   "outputs": [
    {
     "data": {
      "text/plain": [
       "matrix([[0.7, 0.3],\n",
       "        [0.5, 0.5]])"
      ]
     },
     "execution_count": 7,
     "metadata": {},
     "output_type": "execute_result"
    }
   ],
   "source": [
    "stateMatrix"
   ]
  },
  {
   "cell_type": "code",
   "execution_count": 8,
   "id": "beea161f",
   "metadata": {},
   "outputs": [
    {
     "data": {
      "text/plain": [
       "matrix([[0.64, 0.36],\n",
       "        [0.6 , 0.4 ]])"
      ]
     },
     "execution_count": 8,
     "metadata": {},
     "output_type": "execute_result"
    }
   ],
   "source": [
    "stateMatrix.dot(stateMatrix)"
   ]
  },
  {
   "cell_type": "code",
   "execution_count": 9,
   "id": "c1c7ce90",
   "metadata": {},
   "outputs": [],
   "source": [
    "emissionMatrix = np.matrix(\"0.6 0.1 0.3; 0.1 0.7 0.2\")"
   ]
  },
  {
   "cell_type": "code",
   "execution_count": 10,
   "id": "1705d966",
   "metadata": {},
   "outputs": [
    {
     "data": {
      "text/plain": [
       "matrix([[0.6, 0.1, 0.3],\n",
       "        [0.1, 0.7, 0.2]])"
      ]
     },
     "execution_count": 10,
     "metadata": {},
     "output_type": "execute_result"
    }
   ],
   "source": [
    "emissionMatrix"
   ]
  },
  {
   "cell_type": "code",
   "execution_count": 11,
   "id": "2cfbade6",
   "metadata": {},
   "outputs": [],
   "source": [
    "initialMatrix = np.matrix(\"1 0\")"
   ]
  },
  {
   "cell_type": "code",
   "execution_count": 12,
   "id": "0cf05416",
   "metadata": {},
   "outputs": [],
   "source": [
    "from nltk.corpus import treebank"
   ]
  },
  {
   "cell_type": "code",
   "execution_count": 13,
   "id": "e1b65b62",
   "metadata": {},
   "outputs": [],
   "source": [
    "from nltk.tag import hmm"
   ]
  },
  {
   "cell_type": "code",
   "execution_count": 14,
   "id": "b7c28e67",
   "metadata": {},
   "outputs": [],
   "source": [
    "trainer = hmm.HiddenMarkovModelTrainer()"
   ]
  },
  {
   "cell_type": "code",
   "execution_count": null,
   "id": "ec71a98f",
   "metadata": {},
   "outputs": [],
   "source": []
  },
  {
   "cell_type": "code",
   "execution_count": null,
   "id": "f5beea51",
   "metadata": {},
   "outputs": [],
   "source": []
  }
 ],
 "metadata": {
  "kernelspec": {
   "display_name": "Python 3",
   "language": "python",
   "name": "python3"
  },
  "language_info": {
   "codemirror_mode": {
    "name": "ipython",
    "version": 3
   },
   "file_extension": ".py",
   "mimetype": "text/x-python",
   "name": "python",
   "nbconvert_exporter": "python",
   "pygments_lexer": "ipython3",
   "version": "3.8.3"
  }
 },
 "nbformat": 4,
 "nbformat_minor": 5
}

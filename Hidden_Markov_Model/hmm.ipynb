{
 "cells": [
  {
   "cell_type": "markdown",
   "id": "a5a0686e",
   "metadata": {},
   "source": [
    "### 1. HMM Brief\n",
    "- Hidden Markov model is a statistical Markov model in which the system being modeled is assumed to be a Markov process — call it X — with unobservable (\"hidden\") states. As part of the definition, HMM requires that there be an observable process Y whose outcomes are \"influenced\" by the outcomes of X in a known way. \n",
    "\n",
    "- Since X cannot be observed directly, the goal is to learn about X by observing Y.\n",
    "  HMM has an additional requirement that the outcome of Y at time {\\displaystyle t=t_{0}}{\\displaystyle t=t_{0}}    must be \"influenced\" exclusively by the outcome of X at: \n",
    "   \\begin{gather*}t=t_0 \\end{gather*}\n",
    "\n",
    "  must be \"influenced\" exclusively by the outcome of X at \n",
    "   \\begin{gather*}t=t_0 \\end{gather*}\n",
    "\n",
    "  and that the outcomes of X and Y at\n",
    "   \\begin{gather*}t<t_0 \\end{gather*}\n",
    "\n",
    "  must not affect the outcome of Y at \n",
    "   \\begin{gather*}t=t_0 \\end{gather\n",
    "\n",
    "- Given a Hidden Markov Model (HMM), we want to calculate the probability of a state at a certain time, given some evidence via some sequence of emissions. Let us assume the following [HMM](https://en.wikipedia.org/wiki/Hidden_Markov_model) as described in Chapter 9.2 of Manning and Schütze (1999)"
   ]
  },
  {
   "cell_type": "markdown",
   "id": "012dc8c9",
   "metadata": {},
   "source": [
    "### 2. Implications\n",
    "- Reinforce Learning, Temporal Pattern Recognition\n",
    "- Speech, hand-writing, Gesture recognition, part-of-speech tagging, musical score following, pratial dischareges and bioinformatics"
   ]
  },
  {
   "cell_type": "code",
   "execution_count": null,
   "id": "f9482fda",
   "metadata": {},
   "outputs": [],
   "source": []
  }
 ],
 "metadata": {
  "kernelspec": {
   "display_name": "Python 3",
   "language": "python",
   "name": "python3"
  },
  "language_info": {
   "codemirror_mode": {
    "name": "ipython",
    "version": 3
   },
   "file_extension": ".py",
   "mimetype": "text/x-python",
   "name": "python",
   "nbconvert_exporter": "python",
   "pygments_lexer": "ipython3",
   "version": "3.8.3"
  }
 },
 "nbformat": 4,
 "nbformat_minor": 5
}

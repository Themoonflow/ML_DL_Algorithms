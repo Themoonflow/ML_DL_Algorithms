{
 "cells": [
  {
   "cell_type": "markdown",
   "id": "4389be37",
   "metadata": {},
   "source": [
    "### 1. HMM Brief\n",
    "Given a Hidden Markov Model (HMM), we want to calculate the probability of a state at a certain time, given some evidence via some sequence of emissions. Let us assume the following [HMM](https://en.wikipedia.org/wiki/Hidden_Markov_model) as described in Chapter 9.2 of Manning and Schütze (1999)"
   ]
  },
  {
   "cell_type": "code",
   "execution_count": null,
   "id": "9eb81155",
   "metadata": {},
   "outputs": [],
   "source": []
  }
 ],
 "metadata": {
  "kernelspec": {
   "display_name": "Python 3",
   "language": "python",
   "name": "python3"
  },
  "language_info": {
   "codemirror_mode": {
    "name": "ipython",
    "version": 3
   },
   "file_extension": ".py",
   "mimetype": "text/x-python",
   "name": "python",
   "nbconvert_exporter": "python",
   "pygments_lexer": "ipython3",
   "version": "3.8.3"
  }
 },
 "nbformat": 4,
 "nbformat_minor": 5
}

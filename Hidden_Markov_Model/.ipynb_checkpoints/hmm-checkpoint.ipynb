{
 "cells": [
  {
   "cell_type": "markdown",
   "id": "124e78da",
   "metadata": {},
   "source": [
    "### 1. HMM Brief\n",
    "- Hidden Markov model is a statistical Markov model in which the system being modeled is assumed to be a Markov process — call it X — with unobservable (\"hidden\") states. As part of the definition, HMM requires that there be an observable process Y whose outcomes are \"influenced\" by the outcomes of X in a known way. \n",
    "\n",
    "- Since X cannot be observed directly, the goal is to learn about X by observing Y.\n",
    "  HMM has an additional requirement that the outcome of Y at time {\\displaystyle t=t_{0}}{\\displaystyle t=t_{0}}    must be \"influenced\" exclusively by the outcome of X at: $$t=t_{0}$$\n",
    "\n",
    "  must be \"influenced\" exclusively by the outcome of X at \n",
    "   $$t=t_{0}$$\n",
    "\n",
    "  and that the outcomes of X and Y at\n",
    "   $$t<t_{0}$$\n",
    "\n",
    "  must not affect the outcome of Y at \n",
    "   $$t=t_{0}$$\n",
    "\n",
    "- Given a Hidden Markov Model (HMM), we want to calculate the probability of a state at a certain time, given some evidence via some sequence of emissions. Let us assume the following [HMM](https://en.wikipedia.org/wiki/Hidden_Markov_model) as described in Chapter 9.2 of Manning and Schütze (1999)"
   ]
  },
  {
   "cell_type": "markdown",
   "id": "82a6206a",
   "metadata": {},
   "source": [
    "### 2. Implications\n",
    "- Reinforce Learning, Temporal Pattern Recognition\n",
    "- Speech, hand-writing, Gesture recognition, part-of-speech tagging, musical score following, pratial dischareges and bioinformatics"
   ]
  },
  {
   "cell_type": "markdown",
   "id": "d03cf48e",
   "metadata": {},
   "source": [
    "### 3. Implementation"
   ]
  },
  {
   "cell_type": "code",
   "execution_count": 2,
   "id": "9ab037ff",
   "metadata": {},
   "outputs": [],
   "source": [
    "import numpy as np"
   ]
  },
  {
   "cell_type": "code",
   "execution_count": 5,
   "id": "bf78935d",
   "metadata": {},
   "outputs": [],
   "source": [
    "stateMatrix = np.matrix(\"0.7 0.3; 0.5 0.5\")"
   ]
  },
  {
   "cell_type": "code",
   "execution_count": 7,
   "id": "bcffbe1d",
   "metadata": {},
   "outputs": [
    {
     "data": {
      "text/plain": [
       "matrix([[0.7, 0.3],\n",
       "        [0.5, 0.5]])"
      ]
     },
     "execution_count": 7,
     "metadata": {},
     "output_type": "execute_result"
    }
   ],
   "source": [
    "stateMatrix"
   ]
  },
  {
   "cell_type": "code",
   "execution_count": 8,
   "id": "fa024463",
   "metadata": {},
   "outputs": [
    {
     "data": {
      "text/plain": [
       "matrix([[0.64, 0.36],\n",
       "        [0.6 , 0.4 ]])"
      ]
     },
     "execution_count": 8,
     "metadata": {},
     "output_type": "execute_result"
    }
   ],
   "source": [
    "stateMatrix.dot(stateMatrix)"
   ]
  },
  {
   "cell_type": "code",
   "execution_count": 10,
   "id": "60b9afe8",
   "metadata": {},
   "outputs": [],
   "source": [
    "emissionMatrix = np.matrix(\"0.6 0.1 0.3; 0.1 0.7 0.2\")"
   ]
  },
  {
   "cell_type": "code",
   "execution_count": 11,
   "id": "19817e67",
   "metadata": {},
   "outputs": [
    {
     "data": {
      "text/plain": [
       "matrix([[0.6, 0.1, 0.3],\n",
       "        [0.1, 0.7, 0.2]])"
      ]
     },
     "execution_count": 11,
     "metadata": {},
     "output_type": "execute_result"
    }
   ],
   "source": [
    "emissionMatrix"
   ]
  },
  {
   "cell_type": "code",
   "execution_count": 12,
   "id": "b956f6c1",
   "metadata": {},
   "outputs": [],
   "source": [
    "initialMatrix = np.matrix(\"1 0\")"
   ]
  },
  {
   "cell_type": "code",
   "execution_count": null,
   "id": "c6ef6e03",
   "metadata": {},
   "outputs": [],
   "source": []
  }
 ],
 "metadata": {
  "kernelspec": {
   "display_name": "Python 3",
   "language": "python",
   "name": "python3"
  },
  "language_info": {
   "codemirror_mode": {
    "name": "ipython",
    "version": 3
   },
   "file_extension": ".py",
   "mimetype": "text/x-python",
   "name": "python",
   "nbconvert_exporter": "python",
   "pygments_lexer": "ipython3",
   "version": "3.8.3"
  }
 },
 "nbformat": 4,
 "nbformat_minor": 5
}
